{
 "cells": [
  {
   "cell_type": "markdown",
   "metadata": {},
   "source": [
    "# Abundance Figures"
   ]
  },
  {
   "cell_type": "code",
   "execution_count": null,
   "metadata": {
    "vscode": {
     "languageId": "r"
    }
   },
   "outputs": [],
   "source": [
    "library(tidyverse)\n",
    "library(scatterpie)\n",
    "library(scales)\n",
    "library(cowplot)\n",
    "library(ggnewscale)"
   ]
  },
  {
   "cell_type": "code",
   "execution_count": null,
   "metadata": {
    "vscode": {
     "languageId": "r"
    }
   },
   "outputs": [],
   "source": [
    "# Metadata on the samples from NCBI\n",
    "metadata <- read_csv(\"./data/tara_traces_merged.csv\")\n",
    "\n",
    "# Estimated abundances\n",
    "family_data <- read_csv(\"./data/sar86_families_global_abundance_estimates.csv\")\n",
    "merged_data <- merge(x = family_data, y = metadata, by.x = \"sample\", by.y = \"...1\", all = TRUE)\n",
    "\n",
    "\n",
    "genera_data <- read_csv(\"./data/sar86_genera_global_abundance_estimates.csv\")\n",
    "merged_genera_data <- merge(x = genera_data, y = metadata, by.x = \"sample\", by.y = \"...1\", all = TRUE)"
   ]
  },
  {
   "cell_type": "code",
   "execution_count": null,
   "metadata": {
    "vscode": {
     "languageId": "r"
    }
   },
   "outputs": [],
   "source": [
    "convert_to_percent <- function(x) {\n",
    "  x * 100\n",
    "}\n",
    "\n",
    "# Turn proportions to percents\n",
    "family_data <- family_data %>%\n",
    "  mutate_if(is.numeric, convert_to_percent)"
   ]
  },
  {
   "cell_type": "markdown",
   "metadata": {},
   "source": [
    "## Size Fractionation figure"
   ]
  },
  {
   "cell_type": "code",
   "execution_count": null,
   "metadata": {
    "vscode": {
     "languageId": "r"
    }
   },
   "outputs": [],
   "source": [
    "# Size Fractionation\n",
    "merged_data_300 %>% \n",
    "    filter(startsWith(sample, \"TARA\")) %>%\n",
    "    mutate(concat_filter = paste(`Size fraction lower threshold [micrometre]`, `Size fraction upper threshold [micrometre]`)) %>%\n",
    "    gather(\"family\", \"abundance\", all_of(family_level_order)) %>%\n",
    "    ggplot(aes(x = concat_filter, y = abundance, fill = factor(family, level = family_level_order))) + \n",
    "    geom_boxplot() + \n",
    "    labs(x = \"\", y = \"Relative Abundance (%)\") + \n",
    "    theme(axis.text.x = element_text(angle = 0,hjust = 0.5, vjust = 0), legend.position = c(0.85, 0.85), legend.background = element_rect(fill = \"white\", color = \"black\")) + \n",
    "    scale_y_continuous(trans=scales::pseudo_log_trans(base = 10), breaks = scales::pretty_breaks(n = 8))"
   ]
  },
  {
   "cell_type": "markdown",
   "metadata": {},
   "source": [
    "## Abundance Figures"
   ]
  },
  {
   "cell_type": "code",
   "execution_count": null,
   "metadata": {
    "vscode": {
     "languageId": "r"
    }
   },
   "outputs": [],
   "source": [
    "# Filter down the data\n",
    "base_data_family <- merged_data %>%\n",
    "    # Remove virus filter samples sizes\n",
    "    filter(concat_filter != \"< 0.22\") %>%\n",
    "    filter(concat_filter != \"0.1 0.22\") %>%\n",
    "    select(sample, \"Sampling depth [m]\", SAR156, RedeBAC7D11, \"CHAB-I-7\", \"Suzuki\")\n",
    "\n",
    "# Sum together data for SAR86\n",
    "base_data_family <- base_data_family %>%\n",
    "    mutate(SAR86 = `Suzuki` + `CHAB-I-7` + RedeBAC7D11 + SAR156)\n",
    "\n",
    "# Create three depth zones (0-100, 100-200, 200-300)\n",
    "base_data_family$DZ <- ifelse(base_data_family$`Sampling depth [m]` <= 100, \"Upper Euphotic (0-100m)\", ifelse(base_data_family$`Sampling depth [m]` > 100 &\n",
    "  base_data_family$`Sampling depth [m]` <= 200, \"Lower Euphotic (100-200m)\", ifelse(base_data_family$`Sampling depth [m]` > 200 & base_data_family$`Sampling depth [m]` <=\n",
    "  300, \"Upper Mesopelagic (200-300m)\", \"Below 300m\")))"
   ]
  },
  {
   "cell_type": "code",
   "execution_count": null,
   "metadata": {
    "vscode": {
     "languageId": "r"
    }
   },
   "outputs": [],
   "source": [
    "# Depth horizon SAR86 + families figure\n",
    "DZ_order <- c(\"Upper Euphotic (0-100m)\", \"Lower Euphotic (100-200m)\", \"Upper Mesopelagic (200-300m)\")\n",
    "base_data_family %>%\n",
    "    filter(`Sampling depth [m]` <= 300) %>%\n",
    "    gather(\"family\", \"abundance\", all_of(c(\"SAR86\", family_level_order))) %>%\n",
    "    ggplot(aes(x = factor(family, level = c(\"SAR86\", family_level_order)), y = abundance, fill = factor(DZ, level = DZ_order))) + geom_boxplot() + #scale_y_sqrt() +\n",
    "    scale_fill_manual(name = \"Depth Horizons\", values = c(\"#F9FCCA\", \"#66C2A4\", \"#3669D5\"),\n",
    "                labels = DZ_order) + \n",
    "    theme(axis.text.x = element_text(angle = 0,hjust = 0.5, vjust = 0.8), legend.position = c(0.85, 0.75), legend.background = element_rect(fill = \"white\", color = NA)) + \n",
    "    labs(x = \"Family\", y = \"Relative Abundance (%)\") +\n",
    "    # Rename the named classifications\n",
    "    scale_x_discrete(labels = sar156_family_rename_alt) +\n",
    "    #scale_y_continuous(trans=scales::pseudo_log_trans(base = 10), breaks = scales::pretty_breaks(n = 8)) +\n",
    "    scale_y_continuous(trans=scales::pseudo_log_trans(base = 10)) +\n",
    "    xlab(\"\")"
   ]
  },
  {
   "cell_type": "code",
   "execution_count": null,
   "metadata": {
    "vscode": {
     "languageId": "r"
    }
   },
   "outputs": [],
   "source": [
    "merged_genera_data %>%\n",
    "    filter(concat_filter != \"< 0.22\") %>%\n",
    "    filter(concat_filter != \"0.1 0.22\")"
   ]
  },
  {
   "cell_type": "code",
   "execution_count": null,
   "metadata": {
    "vscode": {
     "languageId": "r"
    }
   },
   "outputs": [],
   "source": [
    "sar86_generas <- c(\"Suzuki_G01\", \"Suzuki_G02\", \"Suzuki_G03\", \"Suzuki_G04\", \"Suzuki_G05\", \"Suzuki_G06\", \"Suzuki_G07\", \"Suzuki_G08\", \"Suzuki_G09\", \"Suzuki_G10\", \"CHAB-I-7_G1\",\n",
    "  \"CHAB-I-7_G2\", \"CHAB-I-7_G3\", \"CHAB-I-7_G4\", \"RedeBAC7D11_G1\", \"RedeBAC7D11_G2\", \"RedeBAC7D11_G3\", \"RedeBAC7D11_G4\", \"SAR156_G1\", \"SAR156_G2\", \"SAR156_G3\",\n",
    "  \"SAR156_G4\")\n",
    "# Filter down the data\n",
    "base_data_genera <- merged_genera_data %>%\n",
    "    select(sample, \"Sampling depth [m]\")\n",
    "# Create three depth zones (0-100, 100-200, 200-300)\n",
    "merged_genera_data$DZ <- ifelse(base_data_genera$`Sampling depth [m]` <= 100, \"Upper Euphotic (0-100m)\", ifelse(base_data_genera$`Sampling depth [m]` >\n",
    "  100 & base_data_genera$`Sampling depth [m]` <= 200, \"Lower Euphotic (100-200m)\", ifelse(base_data_genera$`Sampling depth [m]` > 200 & base_data_genera$`Sampling depth [m]` <=\n",
    "  300, \"Upper Mesopelagic (200-300m)\", \"Below 300m\")))"
   ]
  },
  {
   "cell_type": "code",
   "execution_count": null,
   "metadata": {
    "vscode": {
     "languageId": "r"
    }
   },
   "outputs": [],
   "source": [
    "# Depth horizon generas figure\n",
    "merged_genera_data %>%\n",
    "    filter(`Sampling depth [m]` <= 300) %>%\n",
    "    gather(\"genus\", \"abundance\", all_of(sar86_generas)) %>%\n",
    "    # Create a family column for the facet plot\n",
    "    mutate(family = factor(levels = family_level_order, str_replace(genus, \"_.*\", \"\"))) %>%\n",
    "    ggplot(aes(x = factor(genus, level = sar86_generas), y = abundance, fill = factor(DZ, level = DZ_order))) +\n",
    "    geom_boxplot(outlier.size = 0.5) + \n",
    "    scale_fill_manual(name = \"Depth Horizons\", values = c(\"#F9FCCA\", \"#66C2A4\", \"#3669D5\")) +\n",
    "    labs(x = \"Genus\", y = \"Relative Abundance (%)\") +\n",
    "    mike_formatting +\n",
    "    theme(axis.text.x = element_text(angle = 0, hjust = 0.5, vjust = 0.85), legend.position = c(0.85, 0.85), \n",
    "          legend.background = element_blank(),\n",
    "          strip.background = element_blank(),\n",
    "          panel.border = element_rect(colour = \"black\", fill = NA),\n",
    "          strip.text.x = element_text(size = 16, colour = \"black\"),\n",
    "          #axis.text.x = element_text(vjust = 12),\n",
    "          strip.placement = \"outside\") +\n",
    "    # Rename the SAR156 values\n",
    "    scale_x_discrete(labels = sar156_genus_rename_full) +\n",
    "    #scale_y_continuous(trans=scales::pseudo_log_trans(base = 10), breaks = scales::pretty_breaks(n = 8)) +\n",
    "    scale_y_continuous(trans=scales::pseudo_log_trans(base = 10)) +\n",
    "    facet_grid(. ~ family, scales = \"free_x\", space = \"free_x\", labeller = as_labeller(sar156_family_rename),\n",
    "               switch=\"x\") + \n",
    "    # Rename the SAR156 values\n",
    "    scale_x_discrete(labels = genus_list_link_alt) +\n",
    "    xlab(\"\")"
   ]
  },
  {
   "cell_type": "code",
   "execution_count": null,
   "metadata": {
    "vscode": {
     "languageId": "r"
    }
   },
   "outputs": [],
   "source": [
    "# Global Ocean data averages figures\n",
    "# Add ocean basin sections column for BIOGEOTRACES\n",
    "bgt_data <- merged_data %>%\n",
    "  filter(startsWith(sample, \"BGT\")) %>%\n",
    "  filter(`Sampling depth [m]` <= max_depth) %>%\n",
    "  mutate(ocean_section = case_when(\n",
    "    `Longitude [degrees East]` > -100 & `Longitude [degrees East]` < -5 & `Latitude [degrees North]` > 0 ~ \"(NAO) North Atlantic Ocean\",\n",
    "    `Longitude [degrees East]` > -70 & `Longitude [degrees East]` < 20 & `Latitude [degrees North]` < 0 ~ \"(SAO) South Atlantic Ocean\",\n",
    "    `Longitude [degrees East]` > 145 | `Longitude [degrees East]` < -70 & `Latitude [degrees North]` < 0 ~ \"(SPO) South Pacific Ocean\"))\n",
    "\n",
    "# Filter out samples we don't want\n",
    "full_data <- merged_data %>%\n",
    "  filter(startsWith(sample, \"TARA\")) %>%\n",
    "  # Remove virus filter samples sizes\n",
    "filter(concat_filter != \"< 0.22\") %>%\n",
    "  filter(concat_filter != \"0.1 0.22\") %>%\n",
    "  # Remove deeper samples from depths greater than 200m\n",
    "filter(`Sampling depth [m]` <= max_depth) %>%\n",
    "  # Drop MRGID portion\n",
    "mutate(ocean_section = str_sub(`Ocean and sea regions (IHO General Sea Areas 1953) [MRGID registered at www.marineregions.com]`, end = -14)) %>%\n",
    "  # Merge the BGT data with the TARA data\n",
    "rbind(y = bgt_data)\n",
    "\n",
    "# Get the means for each ocean section\n",
    "avg_data <- full_data %>%\n",
    "  select(\"sample\", \"CHAB-I-7\", \"RedeBAC7D11\", \"SAR156\", \"Suzuki\", ocean_section) %>%\n",
    "  group_by(ocean_section) %>%\n",
    "  summarise(`mean_CHAB-I-7` = mean(`CHAB-I-7`), mean_RedeBAC7D11 = mean(RedeBAC7D11), mean_SAR156 = mean(SAR156), `mean_Suzuki` = mean(`Suzuki`))\n",
    "\n",
    "# Manually set locations for the piecharts\n",
    "avg_data$lats <- c(-12.657709, 58, 33.455246, 31.244798, 8, -24.162734, -62.732558, -31.312293)\n",
    "avg_data$longs <- c(78.435551, 40, -47.928822, -156.682216, 23, -12.717372, -47.346278, -131.018153)\n",
    "\n",
    "# Get sample counts\n",
    "sample_counts <- full_data %>%\n",
    "  # Remove virus filter samples sizes\n",
    "    filter(concat_filter != \"< 0.22\") %>%\n",
    "    filter(concat_filter != \"0.1 0.22\") %>%\n",
    "  # Remove deeper samples from depths greater than XXXm\n",
    "    filter(`Sampling depth [m]` <= max_depth) %>%\n",
    "    count(ocean_section)\n",
    "\n",
    "# Manually set locations for sample counts\n",
    "# Order: IO, MS, NAO, NPO, RS, SAO, SO, SPO\n",
    "base_lats <- c(3, 78, 43, 45, 20, -15, -59, -21)\n",
    "sample_counts$lats <- base_lats\n",
    "sample_counts$lower_lats <- base_lats - c(30, 40, 20, 27, 24, 18, 8, 20)\n",
    "sample_counts$longs <- c(78.435551, 40, -47.928822, -156.682216, 23, -12.717372, -47.346278, -131.018153)\n",
    "\n",
    "sample_counts <- sample_counts %>%\n",
    "    mutate(ocean_section_acro = str_replace(ocean_section, \"\\\\s.*\", \"\")) %>% \n",
    "    # Removes the parantheses on both sides of the acronym\n",
    "    mutate(ocean_section_acro = str_replace_all(ocean_section_acro, \"\\\\(|\\\\[|\\\\)|\\\\]\", \"\"))\n",
    "\n",
    "sample_counts <- sample_counts %>%\n",
    "    mutate(ocean_label = paste0(ocean_section_acro, \" (\", n, \")\"))"
   ]
  },
  {
   "cell_type": "code",
   "execution_count": null,
   "metadata": {
    "vscode": {
     "languageId": "r"
    }
   },
   "outputs": [],
   "source": [
    "avg_data %>%\n",
    "    write_csv(\"../workflow-read-recruitment/data/11_abundance_estimates/ocean_region_average.csv\")"
   ]
  },
  {
   "cell_type": "code",
   "execution_count": null,
   "metadata": {
    "vscode": {
     "languageId": "r"
    }
   },
   "outputs": [],
   "source": [
    "# Create base map\n",
    "world <- map_data(\"world\")\n",
    "\n",
    "# Update some aspets of the map\n",
    "mean_map <- ggplot(world, aes(long, lat)) +\n",
    "    geom_map(map = world, aes(map_id = region), fill = \"gray\", color = \"black\") +\n",
    "    coord_quickmap(expand = FALSE) +\n",
    "    ylim(c(-84, 85)) +\n",
    "    xlim(-180, 180) +\n",
    "    theme(axis.text.x = element_blank(), \n",
    "          axis.text.y = element_blank(),\n",
    "          axis.ticks = element_blank()) +\n",
    "    ylab(\"\") +\n",
    "    xlab(\"\") +\n",
    "    theme(panel.border = element_blank(),\n",
    "          panel.grid.major = element_blank(), panel.grid.minor = element_blank()) +\n",
    "    mike_formatting\n",
    "\n",
    "# Add the plots and eerything else to the map\n",
    "mean_map + \n",
    "    sample_locations +\n",
    "    sample_locations_labels +\n",
    "    scale_color_discrete(guide=\"none\") +\n",
    "    scale_fill_discrete(guide=\"none\") + \n",
    "    new_scale_fill() +\n",
    "    new_scale_color() +\n",
    "    geom_scatterpie(aes(x = longs, y = lats, r = mean_sar86), data = avg_data_no_southern_ocean, cols = mean_sub_clades, color = NA, alpha = 0.9) +\n",
    "    scale_fill_manual(values = colors, name = paste0(\"Relative Abundance\\n(0-\",max_depth,\"m)\"), labels = c(\"Suzuki\", \"CHAB-I-7\", \"RedeBAC7D11\", sar156_family_rename[[\"SAR156\"]])) +\n",
    "    geom_scatterpie_legend(avg_data_no_southern_ocean$mean_sar86, x = 150, y = 20, n = 3, labeller = function(x) signif(x/radius_multiple, 1)) +\n",
    "    theme(legend.text = element_text(size = 14),\n",
    "        legend.title = element_text(size = 18),\n",
    "        legend.position = c(0.76, 0.80),\n",
    "        legend.background = element_rect(fill = \"gray\", size = 0.5, colour = \"gray\"))"
   ]
  },
  {
   "cell_type": "code",
   "execution_count": null,
   "metadata": {
    "vscode": {
     "languageId": "r"
    }
   },
   "outputs": [],
   "source": [
    "ocean_averages <- avg_data %>%\n",
    "    mutate(Magnimaribacterales = mean_sar86/radius_multiple) %>% \n",
    "    select(c(ocean_section, mean_Suzuki, `mean_CHAB-I-7`, `mean_RedeBAC7D11`, `mean_SAR156`, `Magnimaribacterales`)) %>%\n",
    "    rename(`Ocean Region` = ocean_section,\n",
    "           `Suzuki` = mean_Suzuki,\n",
    "           `CHAB-I-7` = `mean_CHAB-I-7`,\n",
    "           `RedeBAC7D11` = `mean_RedeBAC7D11`,\n",
    "           `Magnimaribacteraceae` = `mean_SAR156`)\n",
    "\n",
    "# Get a data table for the averages\n",
    "ocean_averages %>%\n",
    "    write_csv(\"../workflow-read-recruitment/data/11_abundance_estimates/ocean_region_average.csv\")"
   ]
  },
  {
   "cell_type": "code",
   "execution_count": null,
   "metadata": {
    "vscode": {
     "languageId": "r"
    }
   },
   "outputs": [],
   "source": [
    "# Get the genus averages figure\n",
    "\n",
    "bgt_genera_samples <- merged_genera_data %>%\n",
    "  filter(startsWith(sample, \"BGT\")) %>%\n",
    "  filter(`Sampling depth [m]` <= max_depth) %>%\n",
    "  mutate(ocean_section = case_when(`Longitude [degrees East]` > -100 & `Longitude [degrees East]` < -5 & `Latitude [degrees North]` > 0 ~ \"(NAO) North Atlantic Ocean\",\n",
    "    `Longitude [degrees East]` > -70 & `Longitude [degrees East]` < 20 & `Latitude [degrees North]` < 0 ~ \"(SAO) South Atlantic Ocean\", `Longitude [degrees East]` >\n",
    "      145 | `Longitude [degrees East]` < -70 & `Latitude [degrees North]` < 0 ~ \"(SPO) South Pacific Ocean\"))\n",
    "\n",
    "# Filter out samples we don't want\n",
    "full_genera_data <- merged_genera_data %>%\n",
    "    filter(startsWith(sample, \"TARA\")) %>%\n",
    "    # Remove virus filter samples sizes\n",
    "    filter(concat_filter != \"< 0.22\") %>%\n",
    "    filter(concat_filter != \"0.1 0.22\") %>%\n",
    "    # Remove deeper samples from depths greater than 200m\n",
    "    filter(`Sampling depth [m]` <= max_depth) %>%\n",
    "    # Drop MRGID portion\n",
    "    mutate(ocean_section = str_sub(`Ocean and sea regions (IHO General Sea Areas 1953) [MRGID registered at www.marineregions.com]`, end = -14)) %>%\n",
    "    # Merge the BGT data with the TARA data\n",
    "    rbind(y = bgt_genera_samples)\n",
    "\n",
    "full_genera_data %>%\n",
    "    filter(`Sampling depth [m]` <= max_depth) %>%\n",
    "    gather(\"genus\", \"abundance\", all_of(sar86_generas)) %>% \n",
    "    # Create a family column for the facet plot\n",
    "    mutate(family = factor(levels = family_level_order, str_replace(genus, \"_.*\", \"\"))) %>%\n",
    "    ggplot(aes(x = genus, y = abundance, fill = ocean_section)) + geom_boxplot(outlier.size = 0.5) +\n",
    "    scale_fill_manual(name = paste0(\"Ocean Region (0-\", max_depth, \"m)\"), values = color_values) +\n",
    "    labs(x = \"\", y = \"Relative Abundance (%)\") +\n",
    "    # Rename the SAR156 values\n",
    "    scale_x_discrete(labels = sar156_genus_rename_full) +\n",
    "    mike_formatting +\n",
    "    #scale_y_continuous(trans=scales::pseudo_log_trans(base = 10), breaks = scales::pretty_breaks(n = 8)) + \n",
    "    scale_y_continuous(trans=scales::pseudo_log_trans(base = 10)) + \n",
    "    #facet_grid(. ~ family, scales = \"free_x\", space = \"free_x\", labeller = as_labeller(sar156_family_rename), rows = 2) + \n",
    "    facet_wrap(. ~ family, scales = 'free', nrow = 2, labeller = as_labeller(sar156_family_rename), strip.position=\"top\") + \n",
    "    # Rename the SAR156 values\n",
    "    scale_x_discrete(labels = genus_list_link) +\n",
    "    #annotate(\"text\", aes(x= x, y = y, label = family), data=family_df )+\n",
    "    theme(legend.position = c(0.50, 0.35),\n",
    "    #theme(legend.position=\"bottom\",\n",
    "          strip.background = element_blank(),\n",
    "          panel.border = element_rect(colour = \"black\", fill = NA),\n",
    "          strip.text.x = element_text(size = 16, colour = \"black\"),\n",
    "          #axis.text.x = element_text(vjust = 12),\n",
    "          strip.placement = \"outside\",\n",
    "          panel.spacing=unit(0.5,\"lines\")) +\n",
    "    guides(fill=guide_legend(nrow=1))"
   ]
  }
 ],
 "metadata": {
  "language_info": {
   "name": "python"
  }
 },
 "nbformat": 4,
 "nbformat_minor": 2
}
