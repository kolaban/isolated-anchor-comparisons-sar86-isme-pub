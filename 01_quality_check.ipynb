{
 "cells": [
  {
   "cell_type": "markdown",
   "metadata": {},
   "source": [
    "# Quality Assurance of Genomes\n",
    "\n",
    "Using checkM output data."
   ]
  },
  {
   "cell_type": "code",
   "execution_count": null,
   "metadata": {},
   "outputs": [],
   "source": [
    "checkm_marker_data = pd.read_csv(\n",
    "    \"../data/02_sar86_quality/checkm_sar86_marker_data.txt\",\n",
    "    sep=\"\\t\",\n",
    "    index_col=\"Node Id: 2; Marker lineage: Gammaproteobacteria\",\n",
    ")"
   ]
  },
  {
   "cell_type": "code",
   "execution_count": null,
   "metadata": {},
   "outputs": [],
   "source": [
    "himb_marker_genes = checkm_marker_data.loc[\"HIMB1674\"]"
   ]
  },
  {
   "cell_type": "code",
   "execution_count": null,
   "metadata": {},
   "outputs": [],
   "source": [
    "absent_markers = himb_marker_genes[himb_marker_genes == 0]"
   ]
  },
  {
   "cell_type": "code",
   "execution_count": null,
   "metadata": {},
   "outputs": [],
   "source": [
    "# Save absent marker genes in HIMB1674 genome\n",
    "absent_marker_file = open(\"../data/02_sar86_quality/absent_markers.txt\", \"w\")\n",
    "for gene in absent_markers:\n",
    "    absent_marker_file.write(gene + \"\\n\")\n",
    "\n",
    "absent_marker_file.close()\n",
    "\n",
    "# Save present marker genes in HIMB1674 genomes\n",
    "present_markers = himb_marker_genes[himb_marker_genes == 1]\n",
    "present_markers = present_markers.index.tolist()\n",
    "\n",
    "present_marker_file = open(\"../data/02_sar86_quality/present_markers.txt\", \"w\")\n",
    "for gene in present_markers:\n",
    "    present_marker_file.write(gene + \"\\n\")\n",
    "\n",
    "present_marker_file.close()"
   ]
  },
  {
   "cell_type": "markdown",
   "metadata": {},
   "source": [
    "After rerunning CheckM and exlcuding HIMB1674 absent marker genes"
   ]
  },
  {
   "cell_type": "code",
   "execution_count": null,
   "metadata": {},
   "outputs": [],
   "source": [
    "# Load quality result data\n",
    "quality_results = pd.read_csv(\n",
    "    \"../data/02_sar86_quality/checkm_sar86_quality_data_corrected.txt\",\n",
    "    sep=\"\\t\",\n",
    "    index_col=\"Bin Id\",\n",
    ")"
   ]
  },
  {
   "cell_type": "code",
   "execution_count": null,
   "metadata": {},
   "outputs": [],
   "source": [
    "# Identify passable quality genomes\n",
    "good_genomes = quality_results[\n",
    "    (quality_results[\"Completeness\"] > 80) & (quality_results[\"Contamination\"] < 5)\n",
    "]"
   ]
  },
  {
   "cell_type": "markdown",
   "metadata": {},
   "source": [
    "## Cluster genomes"
   ]
  },
  {
   "cell_type": "code",
   "execution_count": null,
   "metadata": {},
   "outputs": [],
   "source": [
    "ani_data = pd.read_csv(\n",
    "    \"../data/03_species_clusters/fastani/sar86_fastani.txt\", sep=\"\\t\", header=None\n",
    ")\n",
    "\n",
    "ani_column_corection = {\n",
    "    0: \"Query Genome\",\n",
    "    1: \"Reference Genome\",\n",
    "    2: \"ANI Value\",\n",
    "    3: \"Count of Bidirectional fragment mappings\",\n",
    "    4: \"Total Query Fragments\",\n",
    "}\n",
    "\n",
    "ani_data.rename(columns=ani_column_corection, inplace=True)\n"
   ]
  },
  {
   "cell_type": "code",
   "execution_count": null,
   "metadata": {},
   "outputs": [],
   "source": [
    "# Cout out path part in genome names\n",
    "ani_data[\"Query Genome\"] = ani_data[\"Query Genome\"].str.replace(r\"^.*/\", \"\", regex=True)\n",
    "ani_data[\"Query Genome\"] = ani_data[\"Query Genome\"].str.replace(\n",
    "    r\"(\\.[0-9])?\\.fa$\", \"\", regex=True\n",
    ")\n",
    "\n",
    "ani_data[\"Reference Genome\"] = ani_data[\"Reference Genome\"].str.replace(\n",
    "    r\"^.*/\", \"\", regex=True\n",
    ")\n",
    "ani_data[\"Reference Genome\"] = ani_data[\"Reference Genome\"].str.replace(\n",
    "    r\"(\\.[0-9])?\\.fa$\", \"\", regex=True\n",
    ")"
   ]
  },
  {
   "cell_type": "code",
   "execution_count": null,
   "metadata": {},
   "outputs": [],
   "source": [
    "# Calculate alignment fraction\n",
    "ani_data[\"Alignment Fraction\"] = (\n",
    "    ani_data[\"Count of Bidirectional fragment mappings\"]\n",
    "    / ani_data[\"Total Query Fragments\"]\n",
    ") * 100"
   ]
  },
  {
   "cell_type": "code",
   "execution_count": null,
   "metadata": {},
   "outputs": [],
   "source": [
    "# Drop rows where the query and reference genome are the same\n",
    "index_names = ani_data[(ani_data[\"Query Genome\"] == ani_data[\"Reference Genome\"])].index\n",
    "ani_data.drop(index_names, inplace=True)"
   ]
  },
  {
   "cell_type": "code",
   "execution_count": null,
   "metadata": {},
   "outputs": [],
   "source": [
    "# Only use values with high alignment and high ANI values\n",
    "ani_data_filtered = ani_data[\n",
    "    (ani_data[\"Alignment Fraction\"] > 65) & (ani_data[\"ANI Value\"] > 80)\n",
    "]"
   ]
  },
  {
   "cell_type": "code",
   "execution_count": null,
   "metadata": {},
   "outputs": [],
   "source": [
    "# Function to help group species\n",
    "def group_species(\n",
    "    df_ani: pd.DataFrame, df_quality: pd.DataFrame, ani: int, prior_reps: list\n",
    "):\n",
    "    species_clusters = {}\n",
    "    clustered = set()\n",
    "    # Remove the genome version number incase it is still there\n",
    "    df_quality.index = df_quality.index.str.replace(r\"\\.[0-9]$\", \"\", regex=True)\n",
    "\n",
    "    # Cluster based on prior reps\n",
    "    for rep in prior_reps:\n",
    "        # Identify genomes that are closely related to the rep, both of the\n",
    "        # comparisons are checked i.e. when rep was the query and when rep was\n",
    "        # the reference\n",
    "        tmp_species_row = df_ani.loc[rep][df_ani.loc[rep] > ani].index.tolist()\n",
    "        tmp_species_column = df_ani[rep][df_ani[rep] > ani].index.tolist()\n",
    "        # Here we remove any duplicate enteries, i.e. the case where both of\n",
    "        # the comparisons were above the specified ANI by turning the list into\n",
    "        # a set and then back into a list\n",
    "        tmp_species = list(set(tmp_species_row + tmp_species_column))\n",
    "        species_clusters[rep] = tmp_species\n",
    "        # Use update instead of add since update treats each tuple entry on its own and\n",
    "        # doesn't treat the whole list as a single set entry\n",
    "        clustered.update(tuple(tmp_species + [rep]))\n",
    "\n",
    "    # Cluster remaining genomes using denovo method\n",
    "    sorted_genomes = df_quality.sort_values(\n",
    "        by=[\"Completeness\"], ascending=False\n",
    "    ).index.tolist()\n",
    "    \n",
    "    for denovo in sorted_genomes:\n",
    "        # If the genome is already in a cluster ignore it and move on\n",
    "        if denovo in clustered:\n",
    "            continue\n",
    "        # If a genome cannot be found in the ANI matrix that means that it did not have any closely\n",
    "        # related genomes above the minimum threshold set by FastANI\n",
    "        elif denovo not in df_ani.columns and denovo not in df_ani.index:\n",
    "            species_clusters[denovo] = []\n",
    "            clustered.update([denovo])\n",
    "            continue\n",
    "        # If a genome has not already been clustered, cluster it!\n",
    "        tmp_species_row = df_ani.loc[denovo][df_ani.loc[denovo] > ani].index.tolist()\n",
    "        tmp_species_column = df_ani[denovo][df_ani[denovo] > ani].index.tolist()\n",
    "        tmp_species_not_filtered = list(set(tmp_species_row + tmp_species_column))\n",
    "        # Drop any genomes already clustered:\n",
    "        tmp_species = [x for x in tmp_species_not_filtered if x not in clustered]\n",
    "        species_clusters[denovo] = tmp_species\n",
    "        tmp_cluster_update = tuple(tmp_species + [denovo])\n",
    "        clustered.update(tmp_cluster_update)\n",
    "\n",
    "    print(\"Genomes clustered: {}\".format(len(clustered)))\n",
    "    # Return a dictionary that contains the representative species for each species cluster\n",
    "    # and its associated genomes\n",
    "    return species_clusters"
   ]
  },
  {
   "cell_type": "code",
   "execution_count": null,
   "metadata": {},
   "outputs": [],
   "source": [
    "# --- Calculate the number of species clusters for different ANI values --- #\n",
    "species_num = []\n",
    "lower_bound = 80\n",
    "upper_bound = 99\n",
    "# Range is inclusive on the first value and exclusive on the last so we check each value\n",
    "# from 80 to 98\n",
    "for i in range(lower_bound, upper_bound, 1):\n",
    "    # Get the length of the dictionary which corresponds to the number of\n",
    "    # species groups based on the ANI value.\n",
    "    species_num.append(len(group_species(ani_matrix, good_genomes, i, [\"HIMB1674\"])))"
   ]
  },
  {
   "cell_type": "markdown",
   "metadata": {},
   "source": [
    "Identified 93% as optimal cutoff"
   ]
  },
  {
   "cell_type": "code",
   "execution_count": null,
   "metadata": {},
   "outputs": [],
   "source": [
    "# Rerun with the 93% ANI\n",
    "selected_species_groups = group_species(ani_matrix, good_genomes, 93, [\"HIMB1674\"])"
   ]
  }
 ],
 "metadata": {
  "kernelspec": {
   "display_name": "Python 3 (ipykernel)",
   "language": "python",
   "name": "python3"
  },
  "language_info": {
   "codemirror_mode": {
    "name": "ipython",
    "version": 3
   },
   "file_extension": ".py",
   "mimetype": "text/x-python",
   "name": "python",
   "nbconvert_exporter": "python",
   "pygments_lexer": "ipython3",
   "version": "3.9.10"
  }
 },
 "nbformat": 4,
 "nbformat_minor": 4
}
