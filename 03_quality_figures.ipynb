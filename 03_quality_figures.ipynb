{
 "cells": [
  {
   "cell_type": "code",
   "execution_count": null,
   "metadata": {
    "vscode": {
     "languageId": "r"
    }
   },
   "outputs": [],
   "source": [
    "library(tidyverse)\n",
    "library(cowplot)\n",
    "library(ggprism)\n",
    "library(scales)\n",
    "library(fs)\n",
    "library(broom)\n",
    "library(UpSetR)"
   ]
  },
  {
   "cell_type": "markdown",
   "metadata": {},
   "source": [
    "## ANI Figure"
   ]
  },
  {
   "cell_type": "code",
   "execution_count": null,
   "metadata": {
    "vscode": {
     "languageId": "r"
    }
   },
   "outputs": [],
   "source": [
    "quality_results <- read_tsv(\"./data/checkm_sar86_quality_data_corrected.txt\", show_col_types = FALSE)\n",
    "# ANI subfigure figure\n",
    "ani_values <- read_csv(\"./data/filtered_ani_values.csv\", show_col_types = FALSE)\n",
    "ani_figure <- ani_values %>%\n",
    "  ggplot(aes(x = `ANI Value`)) + geom_histogram(binwidth = 1) + ylab(\"Genomes (Total No.)\") + xlab(\"ANI (%)\") + mike_formatting +\n",
    "  scale_y_continuous(breaks = scales::pretty_breaks(n = 10))\n",
    "alignment_frac_fig <- ani_values %>%\n",
    "  ggplot(aes(x = `Alignment Fraction`)) + geom_histogram() + ylab(\"\") + xlab(\"Alignment Fraction (%)\") + mike_formatting +\n",
    "  scale_y_continuous(breaks = scales::pretty_breaks(n = 10))\n",
    "ani_frac_fig <- plot_grid(ani_figure, alignment_frac_fig, labels = \"AUTO\")"
   ]
  },
  {
   "cell_type": "code",
   "execution_count": null,
   "metadata": {
    "vscode": {
     "languageId": "r"
    }
   },
   "outputs": [],
   "source": [
    "# Load data on cluster sizes\n",
    "ani_clusters_sizes <- read_csv(\"./data/ani_cluster_sizes.csv\", show_col_types = FALSE)\n",
    "# Load data on the size of each cluster within the 93% ANI clustering method\n",
    "species_cluster_size <- read_csv(\"./data/species_cluster_sizes.csv\", show_col_types = FALSE)\n",
    "ani_clusters_sizes_fig <- ani_clusters_sizes %>%\n",
    "  ggplot(aes(x = `ANI-value`, y = `Group-size`)) +\n",
    "  geom_point() + \n",
    "  xlab(\"ANI (%)\") +\n",
    "  ylab(\"Species Clusters (Total No.)\") +\n",
    "  scale_y_continuous(guide = \"prism_minor\", limits = c(40, 165), expand = c(0, 0), minor_breaks = seq(0, 160, 5)) + \n",
    "  scale_x_continuous(guide = \"prism_minor\", limits = c(79, 100), expand = c(0, 0), minor_breaks = seq(80, 100, 1)) \n",
    "\n",
    "species_sizes_fig <- species_cluster_size %>%\n",
    "  ggplot(aes(x = count)) +\n",
    "  geom_histogram(binwidth = 1) +\n",
    "  xlab(\"No. of Genomes in Cluster\") +\n",
    "  ylab(\"No. of Species Clusters\") + \n",
    "  scale_x_continuous(guide = \"prism_minor\", minor_breaks = seq(0, 20, 1)) + \n",
    "  scale_y_continuous(guide = \"prism_minor\", limits = c(0, 55), expand = c(0, 0), minor_breaks = seq(0, 50, 2))"
   ]
  },
  {
   "cell_type": "code",
   "execution_count": null,
   "metadata": {
    "vscode": {
     "languageId": "r"
    }
   },
   "outputs": [],
   "source": [
    "ani_related_figure <-  plot_grid(ani_figure, alignment_frac_fig, ani_clusters_sizes_fig, species_sizes_fig, ncol = 2, nrow = 2, labels = c(\"a\", \"b\", \"c\", \"d\"))\n",
    "ani_related_figure"
   ]
  },
  {
   "cell_type": "markdown",
   "metadata": {},
   "source": [
    "## Genome Qualities Figure"
   ]
  },
  {
   "cell_type": "code",
   "execution_count": null,
   "metadata": {
    "vscode": {
     "languageId": "r"
    }
   },
   "outputs": [],
   "source": [
    "# Load CheckM HIMB1674 corrected data\n",
    "quality_data <- read_tsv(\"./data/checkm_sar86_quality_data_corrected.txt\", show_col_types = FALSE)\n",
    "# Load CheckM uncorrected data i.e. families \n",
    "quality_data_uncorrected <- read_tsv(\"./data/checkm_sar86_quality_data.txt\", show_col_types = FALSE)\n",
    "genome_data <- read_tsv(\"./data/storage/bin_stats.analyze.tsv\", col_names = FALSE, show_col_types = FALSE)"
   ]
  },
  {
   "cell_type": "code",
   "execution_count": null,
   "metadata": {
    "vscode": {
     "languageId": "r"
    }
   },
   "outputs": [],
   "source": [
    "genome_data_cleaned <- genome_data %>%\n",
    "  separate(col = X2, into = c(\"GC\", \"GC_std\", \"Genome_size\", \"#_ambiguous_bases\", \"#_scaffolds\", \"#_contigs\",\n",
    "                              \"Longest_scaffold\", \"Longest_contig\", \"N50_(scaffolds)\", \"N50_(contigs)\",\n",
    "                              \"Mean_scaffold_length\", \"Mean_contig_length\", \"Coding_density\", \"Translation_table\",\n",
    "                              \"#_predicted_genes\"), sep = \",\") %>%\n",
    "  mutate_all(list(~gsub(\".*:\", \"\", .))) %>%\n",
    "  mutate_all(list(~gsub(\"}\", \"\", .)))"
   ]
  },
  {
   "cell_type": "code",
   "execution_count": null,
   "metadata": {
    "vscode": {
     "languageId": "r"
    }
   },
   "outputs": [],
   "source": [
    "full_data <- quality_data %>%\n",
    "  left_join(genome_data_cleaned, by = c(`Bin Id` = \"X1\"))\n",
    "\n",
    "full_data_uncorrected <- quality_data_uncorrected %>%\n",
    "  left_join(genome_data_cleaned, by = c(`Bin Id` = \"X1\"))"
   ]
  },
  {
   "cell_type": "code",
   "execution_count": null,
   "metadata": {
    "vscode": {
     "languageId": "r"
    }
   },
   "outputs": [],
   "source": [
    "species_clusters <- read_tsv(\"./data/sar86_species_clusters.txt\", show_col_types = FALSE)\n",
    "# Genome Taxonomy association file\n",
    "taxonomy <- read_csv(\"./data/family_genus_viz.csv\", show_col_types = FALSE)\n",
    "\n",
    "# Drop version number for easier handling modification\n",
    "taxonomy_rolling <- taxonomy %>%\n",
    "    rename(genome_no_ext = Genome) %>%\n",
    "    select(genome_no_ext, Family, Genus)\n",
    "\n",
    "# The same everywhere else\n",
    "full_data <- full_data %>%\n",
    "  mutate(genome_no_version = gsub(\"\\\\.[1-2]\", \"\", `Bin Id`))\n",
    "\n",
    "full_data_uncorrected <- full_data_uncorrected %>%\n",
    "  mutate(genome_no_version = gsub(\"\\\\.[1-2]\", \"\", `Bin Id`))"
   ]
  },
  {
   "cell_type": "code",
   "execution_count": null,
   "metadata": {
    "vscode": {
     "languageId": "r"
    }
   },
   "outputs": [],
   "source": [
    "full_data <- taxonomy_rolling %>%\n",
    "  left_join(full_data, by = c(genome_no_ext = \"genome_no_version\"))\n",
    "full_data$GC <- as.numeric(full_data$GC)\n",
    "\n",
    "full_data_uncorrected <- taxonomy_rolling %>%\n",
    "  left_join(full_data_uncorrected, by = c(genome_no_ext = \"genome_no_version\"))\n",
    "full_data_uncorrected$GC <- as.numeric(full_data_uncorrected$GC)\n",
    "\n",
    "# Make sure that the length column is numeric\n",
    "full_data$Genome_size <- as.numeric(full_data$Genome_size)\n",
    "full_data_uncorrected$Genome_size <- as.numeric(full_data_uncorrected$Genome_size)\n",
    "\n",
    "# We can also transform the length into Mbp instead of bp\n",
    "full_data <- full_data %>%\n",
    "  mutate(genome_size_mbp = Genome_size/1e+06)\n",
    "full_data_uncorrected <- full_data_uncorrected %>%\n",
    "  mutate(genome_size_mbp = Genome_size/1e+06)\n",
    "# Ordering of families for visualizations and coloring\n",
    "family_level_order <- c(\"Suzuki\", \"CHAB-I-7\", \"RedeBAC7D11\", \"SAR156\")\n",
    "sar86_colors <- c(\"#F17C6C\", \"#F8CB9A\", \"#E5EFBA\", \"#7AACA1\")"
   ]
  },
  {
   "cell_type": "code",
   "execution_count": null,
   "metadata": {
    "vscode": {
     "languageId": "r"
    }
   },
   "outputs": [],
   "source": [
    "# Create scatterplot of completeness vs size of genome\n",
    "qual_length_fig <- full_data_uncorrected %>%\n",
    "    # Make it so that the shape for HIMB1674 is a sqaure so it sticks out\n",
    "    mutate(shape_number = case_when(str_detect(`Bin Id`, \"HIMB1674\") ~ \"Isolate\", TRUE ~ \"External\")) %>%\n",
    "    ggplot(aes(Completeness, genome_size_mbp, fill= Family)) +\n",
    "        geom_point(aes(shape=shape_number), alpha = 0.9, size = 7, colour=\"black\") +\n",
    "        labs(y = \"Genome Length (Mbp)\", x = \"Gammaproteobacteria-based Completeness (%)\") +\n",
    "        theme_grey(base_size = 22) +\n",
    "        scale_fill_manual(values = c(`Suzuki` = sar86_colors[[1]], `CHAB-I-7` = sar86_colors[[2]], \n",
    "                                      RedeBAC7D11 = sar86_colors[[3]], SAR156 = sar86_colors[[4]])) +\n",
    "        scale_shape_manual(values = c(21, 22)) +\n",
    "        mike_formatting +\n",
    "        scale_y_continuous(breaks = scales::pretty_breaks(n = 10)) +\n",
    "        scale_x_continuous(limits = c(65, 100)) +\n",
    "        guides(shape = \"none\")"
   ]
  },
  {
   "cell_type": "code",
   "execution_count": null,
   "metadata": {
    "vscode": {
     "languageId": "r"
    }
   },
   "outputs": [],
   "source": [
    "# GC content plot\n",
    "family_gc_boxplot <- full_data %>%\n",
    "    mutate(GC = GC*100) %>%\n",
    "    {. ->> gc_data_stats } %>% # For stats analysis\n",
    "    ggplot(aes(x = factor(Family, levels = c(\"Suzuki\", \"CHAB-I-7\", \"RedeBAC7D11\", \"SAR156\")), y = GC, fill = Family)) + \n",
    "        geom_boxplot() + \n",
    "        theme_grey(base_size = 22) + labs(y = \"GC Content (%)\", x = \"Family\") +\n",
    "        scale_fill_manual(breaks = family_level_order, values = sar86_colors) +\n",
    "        xlab(\"\") + \n",
    "        theme(legend.position = c(0.75, 0.85), legend.background = element_rect(fill = \"white\", color = \"black\"),\n",
    "            axis.text.x=element_blank(), axis.ticks.x=element_blank()) +\n",
    "        scale_y_continuous(breaks = scales::pretty_breaks(n = 10))"
   ]
  },
  {
   "cell_type": "code",
   "execution_count": null,
   "metadata": {
    "vscode": {
     "languageId": "r"
    }
   },
   "outputs": [],
   "source": [
    "# Initial stats test\n",
    "kruskal.test(GC ~ Family, gc_data_stats)\n",
    "# Post hoc\n",
    "dunn_test(gc_data_stats, GC ~ Family, p.adjust.method = \"bonferroni\", detailed = FALSE)"
   ]
  },
  {
   "cell_type": "code",
   "execution_count": null,
   "metadata": {
    "vscode": {
     "languageId": "r"
    }
   },
   "outputs": [],
   "source": [
    "# Load data for genomes from each family with qualities estimated by their family specific marker gene sets\n",
    "suzuki_focused_quals <- read_tsv(\"../data/30_family_qual_est/Suzuki/qual_data_family_corrected.txt\",\n",
    "                                 show_col_types = FALSE)\n",
    "chab_focused_quals <- read_tsv(\"../data/30_family_qual_est/CHAB-I-7/qual_data_family_corrected.txt\",\n",
    "                               show_col_types = FALSE)\n",
    "rede_focused_quals <- read_tsv(\"../data/30_family_qual_est/RedeBAC7D11/qual_data_family_corrected.txt\",\n",
    "                               show_col_types = FALSE)\n",
    "sar156_focused_quals <- read_tsv(\"../data/30_family_qual_est/SAR156/qual_data_family_corrected.txt\",\n",
    "                                 show_col_types = FALSE)"
   ]
  },
  {
   "cell_type": "code",
   "execution_count": null,
   "metadata": {
    "vscode": {
     "languageId": "r"
    }
   },
   "outputs": [],
   "source": [
    "family_qual_estimates <- suzuki_focused_quals %>%\n",
    "    rbind(chab_focused_quals) %>% \n",
    "    rbind(rede_focused_quals) %>%\n",
    "    rbind(sar156_focused_quals) %>% \n",
    "    mutate(Genome = str_replace(`Bin Id`, \"\\\\.[1-2]\", \"\")) %>%\n",
    "    relocate(Genome) %>%\n",
    "    merge(taxonomy) %>% \n",
    "    mutate(est_size_mbp = (`Genome size (bp)` / (Completeness/100))/1000000) %>%\n",
    "    mutate(size_mbp = (`Genome size (bp)` /1000000)) %>% relocate(size_mbp, .after = `Genome size (bp)`) %>%\n",
    "    relocate(est_size_mbp, .after = size_mbp)"
   ]
  },
  {
   "cell_type": "code",
   "execution_count": null,
   "metadata": {
    "vscode": {
     "languageId": "r"
    }
   },
   "outputs": [],
   "source": [
    "# Create dataframe with himb1674 completion and size estimates\n",
    "himb_size_est <- full_data %>%\n",
    "    mutate(markerset = \"HIMB1674-based\") %>% \n",
    "    select(genome_no_ext, Family, estimatedsize, markerset) %>% \n",
    "    rename(est_size_mbp = estimatedsize, Genome = genome_no_ext)"
   ]
  },
  {
   "cell_type": "code",
   "execution_count": null,
   "metadata": {
    "vscode": {
     "languageId": "r"
    }
   },
   "outputs": [],
   "source": [
    "# Run stats to check differences between size estimates using HIMB1674 completion estimates\n",
    "kruskal.test(est_size_mbp ~ Family, himb_size_est)\n",
    "dunn_test(himb_size_est, est_size_mbp ~ Family, p.adjust.method = \"bonferroni\", detailed = FALSE)"
   ]
  },
  {
   "cell_type": "code",
   "execution_count": null,
   "metadata": {
    "vscode": {
     "languageId": "r"
    }
   },
   "outputs": [],
   "source": [
    "# Create dataframe with family-specific completion and size estimates\n",
    "family_size_est <- family_qual_estimates %>% \n",
    "    mutate(markerset = \"Family-based\") %>% \n",
    "    select(Genome, Family, est_size_mbp, markerset) \n",
    "\n",
    "# Run stats to check differences between size estimates using family-sepcific completion estimates\n",
    "kruskal.test(est_size_mbp ~ Family, family_size_est)\n",
    "dunn_test(family_size_est, est_size_mbp ~ Family, p.adjust.method = \"bonferroni\", detailed = FALSE)"
   ]
  },
  {
   "cell_type": "code",
   "execution_count": null,
   "metadata": {
    "vscode": {
     "languageId": "r"
    }
   },
   "outputs": [],
   "source": [
    "# Combine the tables\n",
    "himb_family_size_est <- family_size_est %>% rbind(himb_size_est)"
   ]
  },
  {
   "cell_type": "code",
   "execution_count": null,
   "metadata": {
    "vscode": {
     "languageId": "r"
    }
   },
   "outputs": [],
   "source": [
    "genome_size_boxplot_compare <- himb_family_size_est %>% \n",
    "    ggplot(aes(factor(Family, level = family_level_order), est_size_mbp, fill = interaction(markerset, Family))) + \n",
    "    geom_boxplot() +\n",
    "    scale_y_continuous(breaks = scales::pretty_breaks(n = 10)) +\n",
    "    theme(legend.position = c(0.25, 0.90), legend.background = element_rect(fill = \"white\", color = \"black\")) +\n",
    "    xlab(\"\") + \n",
    "    scale_fill_manual(values = c(sar86_colors[[2]], \"purple\", sar86_colors[[3]], \"orange\",\n",
    "                                 sar86_colors[[4]], \"green\", sar86_colors[[1]], \"blue\")) +\n",
    "    ylab(\"Predicted Genome Length (Mbp)\")"
   ]
  },
  {
   "cell_type": "code",
   "execution_count": null,
   "metadata": {
    "vscode": {
     "languageId": "r"
    }
   },
   "outputs": [],
   "source": [
    "# Create initial subplots for the qualities related figure\n",
    "three_plot <- plot_grid(qual_length_fig + theme(legend.position = \"none\"), (plot_grid(ncol = 1, family_gc_boxplot, genome_size_boxplot_compare)))"
   ]
  },
  {
   "cell_type": "markdown",
   "metadata": {},
   "source": [
    "## Marker Gene Plot"
   ]
  },
  {
   "cell_type": "code",
   "execution_count": null,
   "metadata": {
    "vscode": {
     "languageId": "r"
    }
   },
   "outputs": [],
   "source": [
    "# Load data on marker genes present in each genome\n",
    "marker_genes <- read_tsv(\"../data/02_sar86_quality/checkm_sar86_marker_data.txt\", show_col_types = FALSE)\n",
    "marker_genes_prop <- marker_genes %>% \n",
    "    rename(Genome = `Node Id: 2; Marker lineage: Gammaproteobacteria`) %>%\n",
    "    mutate(Genome = str_replace(Genome, \"\\\\.[1-2]\", \"\")) %>% \n",
    "    merge(y = taxonomy) %>% \n",
    "    group_by(Family) %>% summarise(across(where(is.numeric), ~ sum(.x > 0)/n()))"
   ]
  },
  {
   "cell_type": "code",
   "execution_count": null,
   "metadata": {},
   "outputs": [],
   "source": [
    "# Get marker genes present in more than 50% of genomes from each family\n",
    "suzuki_marker_genes <- marker_genes_prop %>%\n",
    "    filter(Family == \"Suzuki\") %>%\n",
    "    select_if(~any(. >= 0.5)) %>% \n",
    "    select(-c(\"Family\")) %>%\n",
    "    colnames()\n",
    "chab_marker_genes <- marker_genes_prop %>%\n",
    "    filter(Family == \"CHAB-I-7\") %>%\n",
    "    select_if(~any(. >= 0.5)) %>% \n",
    "    select(-c(\"Family\")) %>%\n",
    "    colnames()\n",
    "rede_marker_genes <- marker_genes_prop %>%\n",
    "    filter(Family == \"RedeBAC7D11\") %>%\n",
    "    select_if(~any(. >= 0.5)) %>% \n",
    "    select(-c(\"Family\")) %>%\n",
    "    colnames()\n",
    "sar156_marker_genes <- marker_genes_prop %>%\n",
    "    filter(Family == \"SAR156\") %>%\n",
    "    select_if(~any(. >= 0.5)) %>% \n",
    "    select(-c(\"Family\")) %>%\n",
    "    colnames()"
   ]
  },
  {
   "cell_type": "code",
   "execution_count": null,
   "metadata": {},
   "outputs": [],
   "source": [
    "himb1674_genes <- marker_genes %>%\n",
    "    filter(`Node Id: 2; Marker lineage: Gammaproteobacteria` == \"HIMB1674\") %>%\n",
    "    select(-`Node Id: 2; Marker lineage: Gammaproteobacteria`) %>%\n",
    "    select_if(~any(. >= 1)) %>%\n",
    "    colnames()"
   ]
  },
  {
   "cell_type": "code",
   "execution_count": null,
   "metadata": {},
   "outputs": [],
   "source": [
    "# Create the tibble of overlap in marker genes\n",
    "# Create a tibble with the counts of entries in each vector\n",
    "tibble_data <- tibble(\n",
    "  Description = c(\"Suzuki\", \"CHAB-I-7\", \"RedeBAC7D11\", \"Magnimaribacteraceae\"),\n",
    "  Count = c(length(suzuki_marker_genes), length(chab_marker_genes), length(rede_marker_genes), length(sar156_marker_genes))\n",
    ")\n",
    "\n",
    "# Calculate overlaps\n",
    "overlap_1_2 <- length(intersect(suzuki_marker_genes, chab_marker_genes))\n",
    "overlap_3_4 <- length(intersect(rede_marker_genes, sar156_marker_genes))\n",
    "overlap_all <- length(Reduce(intersect, list(suzuki_marker_genes, chab_marker_genes, rede_marker_genes, sar156_marker_genes)))\n",
    "\n",
    "# Add rows with overlap information\n",
    "tibble_data <- tibble_data %>%\n",
    "    add_row(Description = \"Suzuki & CHAB-I-7\", Count = overlap_1_2) %>%\n",
    "    add_row(Description = \"RedeBAC7D11 & Magnimaribacteraceae\", Count = overlap_3_4) %>%\n",
    "    add_row(Description = \"Magnimaribacterales\", Count = overlap_all) %>%\n",
    "    add_row(Description = \"HIMB1674\", Count = length(himb1674_genes))\n",
    "\n",
    "\n",
    "# View the tibble\n",
    "tibble_data <- tibble_data %>%\n",
    "    mutate(Missing = 280-Count)\n"
   ]
  },
  {
   "cell_type": "code",
   "execution_count": null,
   "metadata": {},
   "outputs": [],
   "source": [
    "tibble_data %>%\n",
    "    pivot_longer(!Description, names_to = \"Type\", values_to = \"Value\") %>%\n",
    "    # Rearrange so that Missing comes at the top\n",
    "    mutate(Type = factor(Type, levels = c(\"Missing\", \"Count\"))) %>%\n",
    "    # Rearrange for custom x axis order\n",
    "    mutate(Description = factor(Description, levels = c(\"HIMB1674\", \n",
    "                                                        \"Suzuki\", \n",
    "                                                        \"CHAB-I-7\", \n",
    "                                                        \"RedeBAC7D11\", \n",
    "                                                        \"Magnimaribacteraceae\", \n",
    "                                                        \"Suzuki & CHAB-I-7\",\n",
    "                                                        \"RedeBAC7D11 & Magnimaribacteraceae\",\n",
    "                                                        \"Magnimaribacterales\"))) %>%\n",
    "    # For custom fills\n",
    "    mutate(Fill_interaction = interaction(Description, Type, sep = \"-\")) %>%\n",
    "    mutate(transparency = ifelse(Type == \"Missing\", 0, 1)) %>%  # 1 for opaque, 0.5 for semi-transparent\n",
    "    ggplot(aes(x = Description, y = Value, fill = Fill_interaction)) +\n",
    "        geom_bar(stat = \"identity\", position = \"stack\", linewidth = 1, color = \"black\") +\n",
    "        geom_text(aes(label = Value), position = position_stack(vjust = 0.95), color = \"black\", size = 12) +\n",
    "        labs(x = \"Taxonomic Grouping\", y = \"Marker genes (#)\") +\n",
    "        mike_formatting +\n",
    "        scale_y_continuous(breaks = seq(0, 280, by = 50),\n",
    "                           minor_breaks = seq(0, 280, by = 10),\n",
    "                           guide=guide_axis(minor.ticks = TRUE)) +  # Set y-axis breaks\n",
    "        theme(legend.position = \"None\",\n",
    "              axis.text.x = element_text(margin = margin(t = 10)))"
   ]
  },
  {
   "cell_type": "markdown",
   "metadata": {},
   "source": [
    "## Genus GC content figure"
   ]
  },
  {
   "cell_type": "code",
   "execution_count": null,
   "metadata": {
    "vscode": {
     "languageId": "r"
    }
   },
   "outputs": [],
   "source": [
    "sar86_generas_order <- c(\"Suzuki_G01\", \"Suzuki_G02\", \"Suzuki_G03\", \"Suzuki_G04\", \"Suzuki_G05\", \"Suzuki_G06\", \"Suzuki_G07\", \"Suzuki_G08\", \"Suzuki_G09\", \"Suzuki_G10\", \"CHAB-I-7_G1\",\n",
    "  \"CHAB-I-7_G2\", \"CHAB-I-7_G3\", \"CHAB-I-7_G4\", \"RedeBAC7D11_G1\", \"RedeBAC7D11_G2\", \"RedeBAC7D11_G3\", \"RedeBAC7D11_G4\", \"SAR156_G1\", \"SAR156_G2\", \"SAR156_G3\",\n",
    "  \"SAR156_G4\")\n",
    "\n",
    "genus_linkage_named_list <- setNames(sar86_generas_order, sar86_generas_order)\n",
    "genus_linkage_named_list[[\"SAR156_G4\"]] = \"Magnimaribacter\"\n",
    "genera_gc_boxplot <- full_data %>%\n",
    "    mutate(Genus = str_replace(Genus, \".*_\", \"\")) %>%\n",
    "    mutate(GC= GC*100) %>% \n",
    "    mutate(Family = factor(Family, levels = family_level_order)) %>%\n",
    "    ggplot(aes(x = Genus, y = GC, fill = Family)) +\n",
    "    geom_boxplot() +\n",
    "    labs(y = \"GC Content (%)\", x = \"Genera\") +\n",
    "    scale_fill_manual(breaks = family_level_order, labels=c(\"Suzuki\", \"CHAB-I-7\", \"RedeBAC7D11\", \"Magnimaribacteraceae\"), values = sar86_colors) +\n",
    "    mike_formatting +\n",
    "    tilt_x_values +\n",
    "    scale_y_continuous(breaks = scales::pretty_breaks(n = 10)) +\n",
    "    scale_x_discrete(labels = genus_linkage_named_list) +\n",
    "    ggh4x::facet_grid2(.~Family, scales=\"free\", switch = \"x\") +\n",
    "    ggh4x::force_panelsizes(cols = c(10, 4, 4, 4)) +\n",
    "    theme(legend.position = c(0.90, 0.90),\n",
    "            legend.background = element_rect(fill = \"white\", color = \"black\"),\n",
    "            strip.background = element_blank(),\n",
    "            strip.text.x = element_blank())"
   ]
  }
 ],
 "metadata": {
  "kernelspec": {
   "display_name": "Python 3 (ipykernel)",
   "language": "python",
   "name": "python3"
  },
  "language_info": {
   "codemirror_mode": {
    "name": "ipython",
    "version": 3
   },
   "file_extension": ".py",
   "mimetype": "text/x-python",
   "name": "python",
   "nbconvert_exporter": "python",
   "pygments_lexer": "ipython3",
   "version": "3.9.10"
  }
 },
 "nbformat": 4,
 "nbformat_minor": 4
}
