{
 "cells": [
  {
   "cell_type": "markdown",
   "metadata": {},
   "source": [
    "# SAR86 Taxonomy Figure"
   ]
  },
  {
   "cell_type": "code",
   "execution_count": null,
   "metadata": {
    "vscode": {
     "languageId": "r"
    }
   },
   "outputs": [],
   "source": [
    "library(ggtree)"
   ]
  },
  {
   "cell_type": "code",
   "execution_count": null,
   "metadata": {
    "vscode": {
     "languageId": "r"
    }
   },
   "outputs": [],
   "source": [
    "# Read in the tree\n",
    "gtdbtk_tree <- read.newick(\"./data/red_gtdbtk.bac120.classify.tree\")\n",
    "# Pull out the subset for SAR86\n",
    "ancestor <- MRCA(gtdbtk_tree, c(\"HIMB1674.fa\", \"GCA_902559885.1.fa\"))\n",
    "ancestor_tree <- tree_subset(gtdbtk_tree, ancestor, levels_back = 0)"
   ]
  },
  {
   "cell_type": "code",
   "execution_count": null,
   "metadata": {
    "vscode": {
     "languageId": "r"
    }
   },
   "outputs": [],
   "source": [
    "node_dists <- dist.nodes(ancestor_tree)\n",
    "root_to_node_dists <- as_tibble(node_dists)"
   ]
  },
  {
   "cell_type": "code",
   "execution_count": null,
   "metadata": {
    "vscode": {
     "languageId": "r"
    }
   },
   "outputs": [],
   "source": [
    "# Get distance between root and HIMB1674 (note double check the Node number can change in repeated runs)\n",
    "max_value <- max(root_to_node_dists$Node_76)\n",
    "family_red <- 0.22\n",
    "genera_red <- 0.085\n",
    "family_clade <- max_value - family_red\n",
    "genera_clade <- max_value - genera_red"
   ]
  },
  {
   "cell_type": "code",
   "execution_count": null,
   "metadata": {
    "vscode": {
     "languageId": "r"
    }
   },
   "outputs": [],
   "source": [
    "taxa_tree <- ggtree(ancestor_tree) +\n",
    "    geom_tiplab(size = 2, color = \"black\") + theme_tree2() +\n",
    "    geom_vline(xintercept = family_clade, color = \"green\" , size=2) +\n",
    "    geom_vline(xintercept = genera_clade, color = \"purple\", size =2)\n",
    "taxa_tree"
   ]
  }
 ],
 "metadata": {
  "language_info": {
   "name": "python"
  }
 },
 "nbformat": 4,
 "nbformat_minor": 2
}
